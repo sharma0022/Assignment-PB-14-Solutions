{
 "cells": [
  {
   "cell_type": "markdown",
   "id": "22c607da",
   "metadata": {},
   "source": [
    "# Assignment 13 Solutions"
   ]
  },
  {
   "cell_type": "raw",
   "id": "70d2eeed",
   "metadata": {},
   "source": [
    "Q.1. What does RGBA stand for?\n",
    "\n",
    "Ans: RGBA is a four-channel format containing data for Red, Green, Blue, and an Alpha value.          Where Alpha Represents the Opacity"
   ]
  },
  {
   "cell_type": "raw",
   "id": "c2592629",
   "metadata": {},
   "source": [
    "Q.2. From the Pillow module, how do you get the RGBA value of any images?\n",
    "\n",
    "Ans: ImageColor.getcolor() gives rgba value of any image"
   ]
  },
  {
   "cell_type": "raw",
   "id": "5d50f274",
   "metadata": {},
   "source": [
    "Q.3. What is a box tuple, and how does it work?\n",
    "\n",
    "Ans: A box tuple is a type of data structure that stores an ordered collection of values, which        can be of different data types. It is similar to a list, but it is immutable, meaning that        its elements cannot be changed once they are created. A box tuple is defined by enclosing        its elements in parentheses and separated by commas, like this: (element1, element2, ...).        The elements can be accessed by indexing the box tuple, just like with a list. Box tuples        are commonly used in functional programming to represent values that should not be changed,      making it easier to reason about the program's behavior and prevent unintended side-effects."
   ]
  },
  {
   "cell_type": "raw",
   "id": "2e7054ba",
   "metadata": {},
   "source": [
    "Q.4. Use your image and load in notebook then, How can you find out the width and height of an\n",
    "     Image object?\n",
    "\n",
    "Ans: we can find the width and height of an image object in Jupyter Notebook using the PIL            (Python Imaging Library) module. "
   ]
  },
  {
   "cell_type": "code",
   "execution_count": 12,
   "id": "8d6bba30",
   "metadata": {},
   "outputs": [
    {
     "name": "stdout",
     "output_type": "stream",
     "text": [
      "Width, Height -> (1080, 1370)\n",
      "Width, Height -> 1080,1370\n",
      "Width, Height -> 1080,1370\n"
     ]
    }
   ],
   "source": [
    "#Example Program\n",
    "from PIL import Image\n",
    "pic = Image.open('C:/Users/PAPPUSHARMA/Pictures/Camera Roll/Image.jpg.jpg')\n",
    "print(f'Width, Height -> {pic.size}') # Approach 1\n",
    "print(f'Width, Height -> {pic.width},{pic.height}') # Approach 2\n",
    "width,height = pic.size\n",
    "print(f'Width, Height -> {width},{height}') # Approach 3"
   ]
  },
  {
   "cell_type": "raw",
   "id": "bec2c3ba",
   "metadata": {},
   "source": [
    "Q.5. What method would you call to get Image object for a 100×100 image, excluding the lower-left\n",
    "     quarter of it?\n",
    "    \n",
    "Ans: To get an Image object for a 100x100 image, excluding the lower-left quarter of it, we can        use the crop() method in the Pillow library. The crop() method takes a tuple of 4 integers        as an argument, which represents the rectangular region of the image that we want to keep."
   ]
  },
  {
   "cell_type": "code",
   "execution_count": 15,
   "id": "3123ef53",
   "metadata": {},
   "outputs": [],
   "source": [
    "#for example\n",
    "from PIL import Image\n",
    "\n",
    "# Open the image\n",
    "img = Image.open(\"C:/Users/PAPPUSHARMA/Pictures/Camera Roll/Image.jpg.jpg\")\n",
    "\n",
    "# Define the box tuple to keep the upper-right half of the image\n",
    "box = (0, 0, 50, 50)\n",
    "\n",
    "# Crop the image to the specified region defined by the box tuple\n",
    "cropped_img = img.crop(box)\n",
    "\n",
    "# Save the cropped image\n",
    "cropped_img.save(\"cropped_image.jpg\")\n"
   ]
  },
  {
   "cell_type": "raw",
   "id": "c08c934f",
   "metadata": {},
   "source": [
    "Q.6. After making changes to an Image object, how could you save it as an image file?\n",
    "\n",
    "Ans: After making changes to an Image object in Pillow, we can save it as an image file using the      save() method. This method takes a string as an argument, which is the file path where the        image will be saved. We can also specify the format of the image by providing the                appropriate file extension in the file path"
   ]
  },
  {
   "cell_type": "code",
   "execution_count": 17,
   "id": "d7377dd7",
   "metadata": {},
   "outputs": [],
   "source": [
    "#for example\n",
    "from PIL import Image\n",
    "\n",
    "# Open the image\n",
    "img = Image.open(\"C:/Users/PAPPUSHARMA/Pictures/Camera Roll/Image.jpg.jpg\")\n",
    "\n",
    "# Make changes to the image\n",
    "# ...\n",
    "\n",
    "# Save the modified image as a JPEG file\n",
    "img.save(\"modified_image.jpg\", \"JPEG\")\n"
   ]
  },
  {
   "cell_type": "raw",
   "id": "838274fc",
   "metadata": {},
   "source": [
    "Q.7. What module contains Pillow’s shape-drawing code?\n",
    "\n",
    "Ans: The module that contains Pillow's shape-drawing code is the \"ImageDraw\" module."
   ]
  },
  {
   "cell_type": "raw",
   "id": "7d0c3d1c",
   "metadata": {},
   "source": [
    "Q.8. Image objects do not have drawing methods. What kind of object does? How do you get this          kind of object?\n",
    "\n",
    "Ans: ImageDraw objects have shape-drawing methods such as point(), line(), or rectangle().They        are returned by passing the Image object to the ImageDraw.Draw() function."
   ]
  },
  {
   "cell_type": "code",
   "execution_count": null,
   "id": "e8f8ac61",
   "metadata": {},
   "outputs": [],
   "source": []
  }
 ],
 "metadata": {
  "kernelspec": {
   "display_name": "Python 3 (ipykernel)",
   "language": "python",
   "name": "python3"
  },
  "language_info": {
   "codemirror_mode": {
    "name": "ipython",
    "version": 3
   },
   "file_extension": ".py",
   "mimetype": "text/x-python",
   "name": "python",
   "nbconvert_exporter": "python",
   "pygments_lexer": "ipython3",
   "version": "3.9.12"
  }
 },
 "nbformat": 4,
 "nbformat_minor": 5
}
